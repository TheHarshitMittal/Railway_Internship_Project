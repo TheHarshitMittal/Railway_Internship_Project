{
 "cells": [
  {
   "cell_type": "code",
   "execution_count": 1,
   "metadata": {},
   "outputs": [
    {
     "data": {
      "text/plain": [
       "<sqlite3.Connection at 0x18c2b774440>"
      ]
     },
     "execution_count": 1,
     "metadata": {},
     "output_type": "execute_result"
    }
   ],
   "source": [
    "import sqlite3\n",
    "sqlite3.connect('employ.db')"
   ]
  },
  {
   "cell_type": "code",
   "execution_count": 2,
   "metadata": {},
   "outputs": [],
   "source": [
    "import pandas as pd\n",
    "conn = sqlite3.connect('employ.db') \n",
    "c = conn.cursor()\n",
    "\n",
    "c.execute('''\n",
    "          CREATE TABLE IF NOT EXISTS employer\n",
    "          ([PF_number] INTEGER PRIMARY KEY, [Name] TEXT, [section] TEXT, [shift] TEXT)\n",
    "          ''')\n",
    "          \n",
    "#c.execute('''\n",
    "#          INSERT INTO employer (PF_number, Name, section, shift)\n",
    "#\n",
    "#                VALUES\n",
    "#                (6,'HARSHIT','300kmh5','today4')\n",
    "#          ''')\n",
    "\n",
    "c.execute('''\n",
    "          DELETE FROM employer\n",
    "          WHERE PF_number = 6\n",
    "          ''')\n",
    "\n",
    "c.execute('''\n",
    "          SELECT *\n",
    "          FROM employer\n",
    "          ''')\n",
    "\n",
    "df = pd.DataFrame(c.fetchall(), columns=['PF_number', 'Name', 'section', 'shift'])\n",
    "                     \n",
    "conn.commit()"
   ]
  },
  {
   "cell_type": "code",
   "execution_count": null,
   "metadata": {},
   "outputs": [],
   "source": []
  }
 ],
 "metadata": {
  "kernelspec": {
   "display_name": "Python 3",
   "language": "python",
   "name": "python3"
  },
  "language_info": {
   "codemirror_mode": {
    "name": "ipython",
    "version": 3
   },
   "file_extension": ".py",
   "mimetype": "text/x-python",
   "name": "python",
   "nbconvert_exporter": "python",
   "pygments_lexer": "ipython3",
   "version": "3.10.5"
  },
  "orig_nbformat": 4
 },
 "nbformat": 4,
 "nbformat_minor": 2
}
